{
 "cells": [
  {
   "cell_type": "code",
   "execution_count": 4,
   "metadata": {
    "collapsed": true
   },
   "outputs": [],
   "source": [
    "%matplotlib inline\n",
    "import math\n",
    "import numpy as np\n",
    "import matplotlib\n",
    "import matplotlib.pyplot as plt\n",
    "# import plotly.plotly as py\n",
    "# import plotly.graph_objs as go\n",
    "from sympy.mpmath import *\n",
    "# plotly.plotly.sign_in(\"joknowle\", \"h1w8dn6q7h\")\n",
    "#matplotlib.rcParams.update({'font.size': 12, 'font.family': 'calibri', 'mathtext.fontset': 'stix'})"
   ]
  },
  {
   "cell_type": "code",
   "execution_count": 12,
   "metadata": {
    "collapsed": true
   },
   "outputs": [],
   "source": [
    "## calculations:\n",
    "Na = .99**100\n",
    "Nb = .99**10000\n",
    "Nc = .99**(10**23)"
   ]
  },
  {
   "cell_type": "markdown",
   "metadata": {},
   "source": [
    "# Problem 2.27:"
   ]
  },
  {
   "cell_type": "markdown",
   "metadata": {},
   "source": [
    "Multiplicity of a monatomic ideal gas $$\\Omega(U, V, N) = f(N)V^NU^{\\frac{3N}{2}}$$"
   ]
  },
  {
   "cell_type": "markdown",
   "metadata": {},
   "source": [
    "$$V_{new} = \\frac{99V}{100} \\implies \\Omega(U, V, N) = f(N)\\Bigg(\\frac{99V}{100}\\Bigg)^NU^{\\frac{3N}{2}}$$"
   ]
  },
  {
   "cell_type": "markdown",
   "metadata": {},
   "source": [
    "Probability of finding such an arrangement is $$P(N) = \\frac{f(N)\\Bigg(\\frac{99V}{100}\\Bigg)^NU^{\\frac{3N}{2}}}{f(N)V^NU^{\\frac{3N}{2}}} = (\\frac{99}{100})^N$$"
   ]
  },
  {
   "cell_type": "markdown",
   "metadata": {},
   "source": [
    "For $N = 100$, $P(N) = .99^{100}$"
   ]
  },
  {
   "cell_type": "code",
   "execution_count": 16,
   "metadata": {
    "collapsed": false
   },
   "outputs": [
    {
     "name": "stdout",
     "output_type": "stream",
     "text": [
      "P(N=100) =  0.3660323412732292\n",
      "P(N=10000) =  2.2487748498162805e-44\n",
      "P(N=10**23) =  0.0 or better yet, .99^(10^23)\n"
     ]
    }
   ],
   "source": [
    "print('P(N=100) = ', Na)\n",
    "print('P(N=10000) = ', Nb)\n",
    "print('P(N=10**23) = ', Nc, 'or better yet, .99^(10^23)')"
   ]
  },
  {
   "cell_type": "markdown",
   "metadata": {},
   "source": [
    "# Problem 2.30:"
   ]
  },
  {
   "cell_type": "markdown",
   "metadata": {},
   "source": [
    "$$\\Omega(N,q) = \\frac{(q+N)!}{q!N!}$$"
   ]
  },
  {
   "cell_type": "markdown",
   "metadata": {},
   "source": [
    "With Stirling's approximation applied:"
   ]
  },
  {
   "cell_type": "markdown",
   "metadata": {},
   "source": [
    "$$\\Omega(N,q) = \\frac{\\Big(\\frac{(q+N)}{q}\\Big)^q\\Big(\\frac{(q+N)}{N}\\Big)^N}{}$$"
   ]
  },
  {
   "cell_type": "code",
   "execution_count": null,
   "metadata": {
    "collapsed": true
   },
   "outputs": [],
   "source": []
  }
 ],
 "metadata": {
  "kernelspec": {
   "display_name": "Python 3",
   "language": "python",
   "name": "python3"
  },
  "language_info": {
   "codemirror_mode": {
    "name": "ipython",
    "version": 3
   },
   "file_extension": ".py",
   "mimetype": "text/x-python",
   "name": "python",
   "nbconvert_exporter": "python",
   "pygments_lexer": "ipython3",
   "version": "3.5.1"
  }
 },
 "nbformat": 4,
 "nbformat_minor": 0
}
