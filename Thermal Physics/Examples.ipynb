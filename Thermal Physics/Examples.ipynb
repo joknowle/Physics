{
 "cells": [
  {
   "cell_type": "code",
   "execution_count": 2,
   "metadata": {
    "collapsed": true
   },
   "outputs": [],
   "source": [
    "import scipy, pylab, math, numpy as np, sympy, matplotlib, matplotlib.pyplot as plt, matplotlib.pylab as plt2, networkx as nx;\n",
    "import seaborn as sns ### plotly.plotly as py, plotly.graph_objs as go, plotly.tools as tls\n",
    "from __future__ import division\n",
    "from sympy.printing import latex\n",
    "from IPython.display import set_matplotlib_formats\n",
    "from ipywidgets import interact\n",
    "import bokeh.io as bio\n",
    "from bokeh.plotting import figure, show, output_notebook #, output_file\n",
    "from bokeh.models import HoverTool, Line, TapTool, CustomJS, ColumnDataSource\n",
    "\n",
    "set_matplotlib_formats('png', 'pdf')\n",
    "%matplotlib inline\n",
    "%config InlineBackend.figure_format = 'retina'\n",
    "matplotlib.rcParams.update({'font.size': 12, 'font.family': 'calibri', 'mathtext.fontset': 'stix'})\n",
    "# py.sign_in(\"joknowle\", \"h1w8dn6q7h\")\n",
    "# <nbformat>2</nbformat>\n",
    "# <markdowncell>\n",
    "#init_printing(use_latex='mathjax')\n",
    "#init_printing()"
   ]
  },
  {
   "cell_type": "code",
   "execution_count": 3,
   "metadata": {
    "collapsed": false
   },
   "outputs": [],
   "source": [
    "x = np.linspace(0, 2*np.pi, 2000)\n",
    "y = np.sin(x)\n",
    "\n",
    "source = ColumnDataSource(data=dict(x=x, y=y))\n",
    "p = figure(title=\"simple line example\", plot_height=300, plot_width=600, y_range=(-5, 5))\n",
    "p.line(x, y, color=\"#2222aa\", alpha=0.5, line_width=2, source=source, name=\"foo\")\n",
    "\n",
    "def update(f, w=1, A=1, phi=0):\n",
    "    if   f == \"sin\": func = np.sin\n",
    "    elif f == \"cos\": func = np.cos\n",
    "    elif f == \"tan\": func = np.tan\n",
    "    source.data['y'] = A * func(w * x + phi)\n",
    "    bio.push_notebook()\n",
    "\n",
    "show(p)"
   ]
  },
  {
   "cell_type": "code",
   "execution_count": 4,
   "metadata": {
    "collapsed": false
   },
   "outputs": [
    {
     "name": "stderr",
     "output_type": "stream",
     "text": [
      "C:\\Users\\Mahdie\\Anaconda3\\lib\\site-packages\\bokeh\\io.py:532: UserWarning: Cannot find a last shown plot to update. Call output_notebook() and show() before push_notebook()\n",
      "  warnings.warn(\"Cannot find a last shown plot to update. Call output_notebook() and show() before push_notebook()\")\n"
     ]
    },
    {
     "data": {
      "text/plain": [
       "<function __main__.update>"
      ]
     },
     "execution_count": 4,
     "metadata": {},
     "output_type": "execute_result"
    }
   ],
   "source": [
    "from ipywidgets import interact\n",
    "interact(update, f=[\"sin\", \"cos\", \"tan\"], w=(0,10, 0.1), A=(0,5, 0.1), phi=(0, 10, 0.1))"
   ]
  },
  {
   "cell_type": "code",
   "execution_count": null,
   "metadata": {
    "collapsed": true
   },
   "outputs": [],
   "source": [
    "class Graph(nx.DiGraph):\n",
    "    def draw(self, ax = None, **kwds):\n",
    "        pos = self.get_pos()\n",
    "        node_size = kwds.pop('node_size', 200)\n",
    "        alpha = kwds.pop('alpha', 0.3)\n",
    "        if ax is None: nx.draw(self, pos = pos,\n",
    "                               node_size = node_size,\n",
    "                               alpha = alpha,\n",
    "                               **kwds)\n",
    "        else:\n",
    "            nx.draw(self,pos=pos,\n",
    "                    node_size=node_size,\n",
    "                    alpha=alpha,\n",
    "                    ax = ax,**kwds)\n",
    "    def get_pos(self,n=None):\n",
    "        pos = dict([(i, j['pos'] ) for i, j in self.nodes(data = True)])\n",
    "        if n is None:\n",
    "            return pos\n",
    "        else:\n",
    "            return pos[n]\n",
    "    def getx(self,x):\n",
    "        return sorted([(i[0],i[1]['val'] ) for i in self.nodes(True) if i[0][0]==x])\n",
    "\n",
    "    def gety(self,y):\n",
    "        return sorted([(i[0],i[1]['val'] ) for i in self.nodes(True) if i[0][1]==y])\n",
    "\n",
    "# functions to allow diagonal lattice walking\n",
    "def diagwalk(level, n):\n",
    "    x = level\n",
    "    y = -level\n",
    "    while y <= 1 and x < n+1:\n",
    "        yield (x, y)\n",
    "        x += 1\n",
    "        y += 1\n",
    "def diagwalker(n):\n",
    "    'daisy-chains the individual diagonal walkers'\n",
    "    assert n%2 # odd only\n",
    "    return it.chain(*(diagwalk(i, n) for i in range(n+1)))"
   ]
  },
  {
   "cell_type": "code",
   "execution_count": null,
   "metadata": {
    "collapsed": true
   },
   "outputs": [],
   "source": [
    "def construct_graph(level = 51):\n",
    "    g = Graph()\n",
    "    g.level = level\n",
    "    g.add_nodes_from([(i, dict(pos = i)) for i in diagwalker(g.level)])\n",
    "    \n",
    "    for x,y in g.nodes():\n",
    "        if y != 1 and x < g.level:\n",
    "            g.add_edge((x, y), (x + 1, y - 1) )\n",
    "            g.add_edge((x, y), (x + 1, y + 1) )\n",
    "    \n",
    "    g.node[(0,0)]['val'] = 1 # long int\n",
    "    for j in diagwalker(g.level):\n",
    "        if j == (0, 0): continue\n",
    "        x, y = j\n",
    "        g.node[j]['val'] = sum(g.node[k]['val'] for k in g.predecessors(j))\n",
    "    return g\n",
    "g = construct_graph()"
   ]
  },
  {
   "cell_type": "code",
   "execution_count": null,
   "metadata": {
    "collapsed": true
   },
   "outputs": [],
   "source": [
    "fig,ax=plt.subplots()\n",
    "fig.set_size_inches((20,8))\n",
    "ax.set_aspect(1)\n",
    "ax.set_title('Directed Path Lattice',fontsize=18)\n",
    "g.draw(ax=ax)"
   ]
  }
 ],
 "metadata": {
  "kernelspec": {
   "display_name": "Python 3",
   "language": "python",
   "name": "python3"
  },
  "language_info": {
   "codemirror_mode": {
    "name": "ipython",
    "version": 3
   },
   "file_extension": ".py",
   "mimetype": "text/x-python",
   "name": "python",
   "nbconvert_exporter": "python",
   "pygments_lexer": "ipython3",
   "version": "3.5.1"
  }
 },
 "nbformat": 4,
 "nbformat_minor": 0
}
