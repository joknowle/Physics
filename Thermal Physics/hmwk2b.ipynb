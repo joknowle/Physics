{
 "cells": [
  {
   "cell_type": "code",
   "execution_count": 4,
   "metadata": {
    "collapsed": true
   },
   "outputs": [],
   "source": [
    "%matplotlib inline\n",
    "import math\n",
    "import numpy as np\n",
    "import matplotlib\n",
    "import matplotlib.pyplot as plt\n",
    "# import plotly.plotly as py\n",
    "# import plotly.graph_objs as go\n",
    "from sympy.mpmath import *\n",
    "# plotly.plotly.sign_in(\"joknowle\", \"h1w8dn6q7h\")\n",
    "#matplotlib.rcParams.update({'font.size': 12, 'font.family': 'calibri', 'mathtext.fontset': 'stix'})"
   ]
  },
  {
   "cell_type": "code",
   "execution_count": 12,
   "metadata": {
    "collapsed": true
   },
   "outputs": [],
   "source": [
    "## calculations:\n",
    "Na = .99**100\n",
    "Nb = .99**10000\n",
    "Nc = .99**(10**23)"
   ]
  },
  {
   "cell_type": "markdown",
   "metadata": {},
   "source": [
    "# Problem 2.27:"
   ]
  },
  {
   "cell_type": "markdown",
   "metadata": {},
   "source": [
    "Multiplicity of a monatomic ideal gas $$\\Omega(U, V, N) = f(N)V^NU^{\\frac{3N}{2}}$$"
   ]
  },
  {
   "cell_type": "markdown",
   "metadata": {},
   "source": [
    "$$V_{new} = \\frac{99V}{100} \\implies \\Omega(U, V, N) = f(N)\\Bigg(\\frac{99V}{100}\\Bigg)^NU^{\\frac{3N}{2}}$$"
   ]
  },
  {
   "cell_type": "markdown",
   "metadata": {},
   "source": [
    "Probability of finding such an arrangement is $$P(N) = \\frac{f(N)\\Bigg(\\frac{99V}{100}\\Bigg)^NU^{\\frac{3N}{2}}}{f(N)V^NU^{\\frac{3N}{2}}} = (\\frac{99}{100})^N$$"
   ]
  },
  {
   "cell_type": "markdown",
   "metadata": {},
   "source": [
    "For $N = 100$, $P(N) = .99^{100}$"
   ]
  },
  {
   "cell_type": "code",
   "execution_count": 16,
   "metadata": {
    "collapsed": false
   },
   "outputs": [
    {
     "name": "stdout",
     "output_type": "stream",
     "text": [
      "P(N=100) =  0.3660323412732292\n",
      "P(N=10000) =  2.2487748498162805e-44\n",
      "P(N=10**23) =  0.0 or better yet, .99^(10^23)\n"
     ]
    }
   ],
   "source": [
    "print('P(N=100) = ', Na)\n",
    "print('P(N=10000) = ', Nb)\n",
    "print('P(N=10**23) = ', Nc, 'or better yet, .99^(10^23)')"
   ]
  },
  {
   "cell_type": "markdown",
   "metadata": {},
   "source": [
    "# Problem 2.30:"
   ]
  },
  {
   "cell_type": "markdown",
   "metadata": {},
   "source": [
    "$$\\Omega(N,q) = \\frac{(q+N)!}{q!N!}$$"
   ]
  },
  {
   "cell_type": "markdown",
   "metadata": {},
   "source": [
    "With Stirling's approximation applied:"
   ]
  },
  {
   "cell_type": "markdown",
   "metadata": {},
   "source": [
    "$$\\Omega(N,q) = \\frac{\\Big(\\frac{(q+N)}{q}\\Big)^q\\Big(\\frac{(q+N)}{N}\\Big)^N}{\\sqrt{\\frac{2\\pi(q+N)}{N}}}$$"
   ]
  },
  {
   "cell_type": "markdown",
   "metadata": {},
   "source": [
    "a: For 2N oscillators, and 2N total energy, "
   ]
  },
  {
   "cell_type": "markdown",
   "metadata": {},
   "source": [
    "$$\\Omega(2N,2N) = \\frac{\\Big(\\frac{(2N+2N}{2N}\\Big)^2N\\Big(\\frac{(2N+2N)}{2N}\\Big)^2N}{\\sqrt{\\frac{2\\pi(2N+2N)}{2N}}}$$"
   ]
  },
  {
   "cell_type": "markdown",
   "metadata": {},
   "source": [
    "$$\\Omega(2N,2N) = \\frac{2^{4N}}{\\sqrt{8\\pi N}}$$"
   ]
  },
  {
   "cell_type": "markdown",
   "metadata": {},
   "source": [
    "b: Entropy is defined as "
   ]
  },
  {
   "cell_type": "markdown",
   "metadata": {},
   "source": [
    "$$S = kln(\\Omega) = kln(\\Omega(2N, 2N) = kln\\big(\\frac{2^{4N}}{\\sqrt{8\\pi N}}\\big) = 4Nkln(2) - k\\frac{1}{2}ln(8\\pi N)$$"
   ]
  },
  {
   "cell_type": "markdown",
   "metadata": {},
   "source": [
    "For N = $10^{23}$, $$S = 4x10^{23}kln(2) - \\frac{k}{2}ln(8\\pi (10^{23})) = 4x10^{23}kln(2) -\\frac{k}{2}ln(8\\pi) - \\frac{23k}{2}ln(10)$$"
   ]
  },
  {
   "cell_type": "markdown",
   "metadata": {},
   "source": [
    "$$S = 277.259x10^{21}k$$"
   ]
  },
  {
   "cell_type": "markdown",
   "metadata": {},
   "source": [
    "For a system in its most likely macrostate, the entropy is given by "
   ]
  },
  {
   "cell_type": "markdown",
   "metadata": {},
   "source": [
    "$$S = kln(\\Omega_{max}) = kln\\Bigg(\\frac{2^{4N}}{4\\pi N}\\Bigg) = k\\Bigg(4ln(2) - ln(4\\pi N) \\Bigg)$$"
   ]
  },
  {
   "cell_type": "markdown",
   "metadata": {},
   "source": [
    "which is determined to be $S = (277.259x10^{21} - 55.5)k$, such that $$S = 277.259x10^{21}k$$"
   ]
  },
  {
   "cell_type": "markdown",
   "metadata": {},
   "source": [
    "c: The difference between both methods of calculating entropy is $$kln(4\\pi N) - \\frac{k}{2}ln(8\\pi N) = (55.5 - 28.1)k = 27.4k$$"
   ]
  },
  {
   "cell_type": "markdown",
   "metadata": {},
   "source": [
    "which is ultimately irrelevant in comparison to something that is much closer to infinity than 27.4k"
   ]
  },
  {
   "cell_type": "markdown",
   "metadata": {},
   "source": [
    "d: By inserting a partition, it does violate the second law of thermodynamics, but the amount is insignificant. "
   ]
  },
  {
   "cell_type": "markdown",
   "metadata": {},
   "source": [
    "# # Problem 2.33:"
   ]
  },
  {
   "cell_type": "markdown",
   "metadata": {},
   "source": [
    "Entropy of a mole of argon gas (room temp, atmospheric pressure) is given by "
   ]
  },
  {
   "cell_type": "markdown",
   "metadata": {},
   "source": [
    "$$S = Nk\\Bigg[ln\\Big(\\frac{V}{N}\\Big(\\frac{4\\pi mU}{3Nh^2}\\Big)^{3/2}\\Big) + \\frac{5}{2}\\Bigg]$$"
   ]
  },
  {
   "cell_type": "markdown",
   "metadata": {},
   "source": [
    "Where 1 mole of argon is $6.022x10^{23}$ molecules, "
   ]
  },
  {
   "cell_type": "markdown",
   "metadata": {},
   "source": [
    "$V = \\frac{RT}{P} = .025m^3, U = \\frac{3}{2}nRT = 3.74 kJ$, and the mass of argon is $6.6x10^{-26}kg$ such that, $$S_{argon} = 155 \\frac{J}{K}$$"
   ]
  },
  {
   "cell_type": "markdown",
   "metadata": {},
   "source": [
    "The differences in entropy are because of the mass differences between argon and helium. "
   ]
  }
 ],
 "metadata": {
  "kernelspec": {
   "display_name": "Python 3",
   "language": "python",
   "name": "python3"
  },
  "language_info": {
   "codemirror_mode": {
    "name": "ipython",
    "version": 3
   },
   "file_extension": ".py",
   "mimetype": "text/x-python",
   "name": "python",
   "nbconvert_exporter": "python",
   "pygments_lexer": "ipython3",
   "version": "3.5.1"
  }
 },
 "nbformat": 4,
 "nbformat_minor": 0
}
